{
 "cells": [
  {
   "cell_type": "code",
   "execution_count": 7,
   "id": "15c92c1c",
   "metadata": {},
   "outputs": [],
   "source": [
    "def print_n(n):\n",
    "    def inner_print(x):\n",
    "        if n==0:\n",
    "            print(\"done\")\n",
    "        else:\n",
    "            print(x)\n",
    "            return print_n(n-1)\n",
    "    return inner_print"
   ]
  },
  {
   "cell_type": "code",
   "execution_count": 8,
   "id": "80b43339",
   "metadata": {},
   "outputs": [
    {
     "name": "stdout",
     "output_type": "stream",
     "text": [
      "a\n",
      "b\n",
      "c\n",
      "done\n"
     ]
    }
   ],
   "source": [
    "print_n(3)(\"a\")(\"b\")(\"c\")(\"d\")"
   ]
  },
  {
   "cell_type": "code",
   "execution_count": 11,
   "id": "61830962",
   "metadata": {},
   "outputs": [],
   "source": [
    "def inv_cas(n):\n",
    "    def grow(n):\n",
    "        if n != 0:\n",
    "            grow(n//10)\n",
    "            print(n)\n",
    "        return None\n",
    "    def shrink(n):\n",
    "        if n != 0:\n",
    "            print(n)\n",
    "            shrink(n//10)\n",
    "    grow(n//10)\n",
    "    print(n)\n",
    "    shrink(n//10)"
   ]
  },
  {
   "cell_type": "code",
   "execution_count": 12,
   "id": "ed4c81b1",
   "metadata": {},
   "outputs": [
    {
     "name": "stdout",
     "output_type": "stream",
     "text": [
      "1\n",
      "12\n",
      "123\n",
      "1234\n",
      "12345\n",
      "1234\n",
      "123\n",
      "12\n",
      "1\n"
     ]
    }
   ],
   "source": [
    "inv_cas(12345)"
   ]
  },
  {
   "cell_type": "code",
   "execution_count": null,
   "id": "8ac8be9b",
   "metadata": {},
   "outputs": [],
   "source": []
  }
 ],
 "metadata": {
  "kernelspec": {
   "display_name": "Python 3 (ipykernel)",
   "language": "python",
   "name": "python3"
  },
  "language_info": {
   "codemirror_mode": {
    "name": "ipython",
    "version": 3
   },
   "file_extension": ".py",
   "mimetype": "text/x-python",
   "name": "python",
   "nbconvert_exporter": "python",
   "pygments_lexer": "ipython3",
   "version": "3.11.3"
  }
 },
 "nbformat": 4,
 "nbformat_minor": 5
}
